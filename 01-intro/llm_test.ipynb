{
 "cells": [
  {
   "cell_type": "code",
   "execution_count": 3,
   "id": "bc200578-adc8-47f2-a1a6-0627b971ac20",
   "metadata": {},
   "outputs": [],
   "source": [
    "import openai\n",
    "from openai import OpenAI"
   ]
  },
  {
   "cell_type": "code",
   "execution_count": 4,
   "id": "6f4d5b83-04e1-4ec0-b425-bdbebead3c6b",
   "metadata": {},
   "outputs": [],
   "source": [
    "client = OpenAI()"
   ]
  },
  {
   "cell_type": "code",
   "execution_count": 8,
   "id": "2e0af486-3ce5-4550-b13b-bb31f367a942",
   "metadata": {},
   "outputs": [],
   "source": [
    "response = client.chat.completions.create(\n",
    "    model=\"gpt-4o\",\n",
    "    messages=[{\"role\": \"user\", \"content\": \"Is it too late to join the course?\" }]\n",
    ")"
   ]
  },
  {
   "cell_type": "code",
   "execution_count": 12,
   "id": "a4f0c0a4-189b-45e8-81df-5af4630e3386",
   "metadata": {},
   "outputs": [
    {
     "data": {
      "text/plain": [
       "\"It's hard to say definitively without more context. Here are a few factors you might consider:\\n\\n1. **Enrollment Deadline:** Check if the course has a specific enrollment deadline. Many courses have a cutoff date after which new enrollments are not accepted.\\n\\n2. **Course Progress:** Determine how far along the course is. If it's early in the term or session, you might still have time to catch up. If it's near the end, it could be more challenging.\\n\\n3. **Instructor Policy:** Some instructors are flexible and may allow late enrollments if you can demonstrate commitment and the ability to catch up. It’s worth reaching out to the instructor directly.\\n\\n4. **Course Type:** Online courses often offer more flexibility than in-person courses. Some online courses are self-paced and allow you to start at any time.\\n\\n5. **Institution Rules:** Different schools and educational platforms have different policies. Check the specific rules of the institution offering the course.\\n\\nIf you’re seriously interested, the best course of action is to contact the course instructor or the institution offering the course to discuss your options. They can provide the most accurate information and possibly make accommodations for you.\""
      ]
     },
     "execution_count": 12,
     "metadata": {},
     "output_type": "execute_result"
    }
   ],
   "source": [
    "response.choices[0].message.content"
   ]
  },
  {
   "cell_type": "code",
   "execution_count": null,
   "id": "5632c683-2f5e-448a-88e8-cfda24d0dd37",
   "metadata": {},
   "outputs": [],
   "source": []
  }
 ],
 "metadata": {
  "kernelspec": {
   "display_name": "Python 3 (ipykernel)",
   "language": "python",
   "name": "python3"
  },
  "language_info": {
   "codemirror_mode": {
    "name": "ipython",
    "version": 3
   },
   "file_extension": ".py",
   "mimetype": "text/x-python",
   "name": "python",
   "nbconvert_exporter": "python",
   "pygments_lexer": "ipython3",
   "version": "3.10.14"
  }
 },
 "nbformat": 4,
 "nbformat_minor": 5
}
